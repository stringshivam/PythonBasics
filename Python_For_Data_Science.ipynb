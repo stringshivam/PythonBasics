{
  "nbformat": 4,
  "nbformat_minor": 0,
  "metadata": {
    "colab": {
      "name": "Python For Data Science.ipynb",
      "provenance": [],
      "collapsed_sections": [
        "hCEPuInnW9Ai",
        "YStWsUEiZ9R1",
        "SJbsSOmqdbhf",
        "97gSFLQ6fZx7",
        "tHy3nWEpgvo1",
        "Yvfu-mkIjARh",
        "cjEUHLAfoWnA",
        "TNvQtZKoLFAb",
        "5MxJvb_bQm_u",
        "WvHb7CheK0PI",
        "WS4SGjl9-96j",
        "kTudfjRPBaPN"
      ]
    },
    "kernelspec": {
      "name": "python3",
      "display_name": "Python 3"
    },
    "language_info": {
      "name": "python"
    }
  },
  "cells": [
    {
      "cell_type": "code",
      "execution_count": null,
      "metadata": {
        "colab": {
          "base_uri": "https://localhost:8080/"
        },
        "id": "FzhPOJ45n8B4",
        "outputId": "860154cb-09ef-402c-8b61-8ec5a2b16887"
      },
      "outputs": [
        {
          "output_type": "stream",
          "name": "stdout",
          "text": [
            "Hello World\n"
          ]
        }
      ],
      "source": [
        "print('Hello World')"
      ]
    },
    {
      "cell_type": "markdown",
      "source": [
        "# Python supports 3 categories of data types:\n",
        "\n",
        "\n",
        "*   Basic Types - (Integer,Float,Complex,Boolean and String)\n",
        "*   Container Types - (List,Tuples, Sets and Dictionary)\n",
        "*   User-defined Types - Class\n",
        "\n",
        "\n"
      ],
      "metadata": {
        "id": "hCEPuInnW9Ai"
      }
    },
    {
      "cell_type": "code",
      "source": [
        "#Integer\n",
        "print(4)\n",
        "print(12342354302534053046830568345082350435031534531453680316480)\n",
        "print(1e308) # - 10**308 Size of Integer\n",
        "print(1e309) #Throws Infintiy"
      ],
      "metadata": {
        "colab": {
          "base_uri": "https://localhost:8080/"
        },
        "id": "t49fC5bHXGjO",
        "outputId": "79312710-1089-4d48-e462-51cf05e28184"
      },
      "execution_count": null,
      "outputs": [
        {
          "output_type": "stream",
          "name": "stdout",
          "text": [
            "4\n",
            "12342354302534053046830568345082350435031534531453680316480\n",
            "1e+308\n",
            "inf\n"
          ]
        }
      ]
    },
    {
      "cell_type": "code",
      "source": [
        "#Float\n",
        "print(4.5)\n",
        "print(1.7e308) # - 1.7**308 Size of Integer"
      ],
      "metadata": {
        "colab": {
          "base_uri": "https://localhost:8080/"
        },
        "id": "Vdp4tn0CYw8g",
        "outputId": "fcc10ca9-fbe5-487c-e3ac-9a76607c7b7b"
      },
      "execution_count": null,
      "outputs": [
        {
          "output_type": "stream",
          "name": "stdout",
          "text": [
            "4.5\n",
            "1.7e+308\n"
          ]
        }
      ]
    },
    {
      "cell_type": "code",
      "source": [
        "#Boolean\n",
        "print(True)\n",
        "print(False)"
      ],
      "metadata": {
        "colab": {
          "base_uri": "https://localhost:8080/"
        },
        "id": "6anuS7nMY2Sa",
        "outputId": "d2168da2-7900-4baa-ab12-931abdf53c38"
      },
      "execution_count": null,
      "outputs": [
        {
          "output_type": "stream",
          "name": "stdout",
          "text": [
            "True\n",
            "False\n"
          ]
        }
      ]
    },
    {
      "cell_type": "code",
      "source": [
        "#Complex\n",
        "print(4+5j)"
      ],
      "metadata": {
        "colab": {
          "base_uri": "https://localhost:8080/"
        },
        "id": "UeYLKn4kY6WR",
        "outputId": "86ac0e99-3c97-4ff6-fb3c-88aaf1474817"
      },
      "execution_count": null,
      "outputs": [
        {
          "output_type": "stream",
          "name": "stdout",
          "text": [
            "(4+5j)\n"
          ]
        }
      ]
    },
    {
      "cell_type": "code",
      "source": [
        "#String\n",
        "print('Shivam')\n",
        "print(\"Choudhary\")\n",
        "print(\"\"\"1703374\"\"\")"
      ],
      "metadata": {
        "colab": {
          "base_uri": "https://localhost:8080/"
        },
        "id": "CkKjXJSWY91-",
        "outputId": "e0367558-0617-4c9e-ef28-01c1e7545278"
      },
      "execution_count": null,
      "outputs": [
        {
          "output_type": "stream",
          "name": "stdout",
          "text": [
            "Shivam\n",
            "Choudhary\n",
            "1703374\n"
          ]
        }
      ]
    },
    {
      "cell_type": "code",
      "source": [
        "#List\n",
        "print([1,2,3,4,4])"
      ],
      "metadata": {
        "colab": {
          "base_uri": "https://localhost:8080/"
        },
        "id": "dUKhizK2ZJ6e",
        "outputId": "cb51e9eb-e9b6-464b-d0ad-baa9f95e0496"
      },
      "execution_count": null,
      "outputs": [
        {
          "output_type": "stream",
          "name": "stdout",
          "text": [
            "[1, 2, 3, 4, 4]\n"
          ]
        }
      ]
    },
    {
      "cell_type": "code",
      "source": [
        "#Tuple\n",
        "print((1,2,3,4,4))"
      ],
      "metadata": {
        "colab": {
          "base_uri": "https://localhost:8080/"
        },
        "id": "_dYJwfgYZSeV",
        "outputId": "319b0319-5ade-40e8-d224-22d207da44b4"
      },
      "execution_count": null,
      "outputs": [
        {
          "output_type": "stream",
          "name": "stdout",
          "text": [
            "(1, 2, 3, 4, 4)\n"
          ]
        }
      ]
    },
    {
      "cell_type": "code",
      "source": [
        "#Sets\n",
        "print({1,2,3,4,4})"
      ],
      "metadata": {
        "colab": {
          "base_uri": "https://localhost:8080/"
        },
        "id": "pi8quTp8ZYqd",
        "outputId": "69f61c49-2eb6-4150-b2fa-35e7a50a7348"
      },
      "execution_count": null,
      "outputs": [
        {
          "output_type": "stream",
          "name": "stdout",
          "text": [
            "{1, 2, 3, 4}\n"
          ]
        }
      ]
    },
    {
      "cell_type": "code",
      "source": [
        "#Dictionary\n",
        "print({\"name\":\"Shivam\",\"age\": 30, \"gender\": \"M\"})"
      ],
      "metadata": {
        "colab": {
          "base_uri": "https://localhost:8080/"
        },
        "id": "DTotqNQWZhHs",
        "outputId": "e341163c-9798-4d5b-b311-acdc5a86932f"
      },
      "execution_count": null,
      "outputs": [
        {
          "output_type": "stream",
          "name": "stdout",
          "text": [
            "{'name': 'Shivam', 'age': 30, 'gender': 'M'}\n"
          ]
        }
      ]
    },
    {
      "cell_type": "markdown",
      "source": [
        "# Guessing Game\n"
      ],
      "metadata": {
        "id": "YStWsUEiZ9R1"
      }
    },
    {
      "cell_type": "code",
      "source": [
        "import random\n",
        "\n",
        "user_answer = int(input(\"Enter the number: \"))\n",
        "correct_ans = random.randint(1,100)\n",
        "count = 1\n",
        "while user_answer!=correct_ans:\n",
        "  count += 1\n",
        "  if correct_ans>user_answer:\n",
        "    print(\"Guess Higher\")\n",
        "  else:\n",
        "    print(\"Guess Lower\")\n",
        "  user_answer = int(input(\"Enter the number again: \"))\n",
        "\n",
        "print(f\"You Won!, you took {count} attempts\")\n"
      ],
      "metadata": {
        "colab": {
          "base_uri": "https://localhost:8080/"
        },
        "id": "z0tsSib8aOKK",
        "outputId": "0e1d12a7-0fbd-450a-a2c3-0c0141934f7f"
      },
      "execution_count": null,
      "outputs": [
        {
          "output_type": "stream",
          "name": "stdout",
          "text": [
            "Enter the number: 50\n",
            "34\n",
            "Guess Lower\n",
            "Enter the number again: 34\n",
            "You Won!, you took 2 attempts\n"
          ]
        }
      ]
    },
    {
      "cell_type": "markdown",
      "source": [
        "# For Loop"
      ],
      "metadata": {
        "id": "SJbsSOmqdbhf"
      }
    },
    {
      "cell_type": "code",
      "source": [
        "#range\n",
        "list(range(2,21,2))\n",
        "list(range(10,0,-1))"
      ],
      "metadata": {
        "colab": {
          "base_uri": "https://localhost:8080/"
        },
        "id": "jiJkv4Q1dfAZ",
        "outputId": "19f2b406-2567-4ff8-c14e-08fe889a26aa"
      },
      "execution_count": null,
      "outputs": [
        {
          "output_type": "execute_result",
          "data": {
            "text/plain": [
              "[10, 9, 8, 7, 6, 5, 4, 3, 2, 1]"
            ]
          },
          "metadata": {},
          "execution_count": 29
        }
      ]
    },
    {
      "cell_type": "code",
      "source": [
        "#sequence\n",
        "  # 1. String - 'Delhi'\n",
        "  # 2. Tuple - (1,3,5,2,1)\n",
        "  # 3. List\n",
        "  # 4. Sets\n",
        "  # 5. Dictionary\n",
        "for i in range(10,0,-1):\n",
        "  print(i)"
      ],
      "metadata": {
        "id": "vVYj6A9ids4h"
      },
      "execution_count": null,
      "outputs": []
    },
    {
      "cell_type": "code",
      "source": [
        "for i in \"Delhi\":\n",
        "  print(i)"
      ],
      "metadata": {
        "id": "5tUvLH1Ue6IW"
      },
      "execution_count": null,
      "outputs": []
    },
    {
      "cell_type": "code",
      "source": [
        "for i in (1,35,232):\n",
        "  print(i)"
      ],
      "metadata": {
        "id": "J0Gi24K5e_qg"
      },
      "execution_count": null,
      "outputs": []
    },
    {
      "cell_type": "markdown",
      "source": [
        "# Nested Loops"
      ],
      "metadata": {
        "id": "97gSFLQ6fZx7"
      }
    },
    {
      "cell_type": "code",
      "source": [
        "user_input = int(input(\"Enter the number of rows: \"))\n",
        "for i in range(user_input):\n",
        "  for j in range(i):\n",
        "    print('*',end='')\n",
        "  print()"
      ],
      "metadata": {
        "colab": {
          "base_uri": "https://localhost:8080/"
        },
        "id": "L9RhPCJbffpb",
        "outputId": "b53d9107-0031-4dbe-db9b-102fc304f7a5"
      },
      "execution_count": null,
      "outputs": [
        {
          "output_type": "stream",
          "name": "stdout",
          "text": [
            "Enter the number of rows: 5\n",
            "\n",
            "*\n",
            "**\n",
            "***\n",
            "****\n"
          ]
        }
      ]
    },
    {
      "cell_type": "markdown",
      "source": [
        "# Break, Continue and Pass Statements"
      ],
      "metadata": {
        "id": "tHy3nWEpgvo1"
      }
    },
    {
      "cell_type": "code",
      "source": [
        "for i in range(1,11):\n",
        "  if i==5:\n",
        "    break\n",
        "  print(i)"
      ],
      "metadata": {
        "id": "_yQObNlNg1Ji"
      },
      "execution_count": null,
      "outputs": []
    },
    {
      "cell_type": "code",
      "source": [
        "for i in range(1,11):\n",
        "  if i == 5:\n",
        "    continue\n",
        "  print(i)\n",
        "  print(\"Hello\")\n",
        "  #if you only have to print the codes of product which are out of stock "
      ],
      "metadata": {
        "id": "rfT6MsBGhIef"
      },
      "execution_count": null,
      "outputs": []
    },
    {
      "cell_type": "code",
      "source": [
        "for i in range(1,11):\n",
        "  pass\n",
        "  #if you want to leave any block blank as of now"
      ],
      "metadata": {
        "id": "DZOCx5c7ivYJ"
      },
      "execution_count": null,
      "outputs": []
    },
    {
      "cell_type": "markdown",
      "source": [
        "# Built-In Function"
      ],
      "metadata": {
        "id": "Yvfu-mkIjARh"
      }
    },
    {
      "cell_type": "code",
      "source": [
        "print(\"Test\")\n",
        "var = input(\"Enter your name:\")\n",
        "type(var)\n",
        "int(), float(), str()\n",
        "# abs(-1) = modulas \n",
        "pow(2,3)\n",
        "min([1.2,5,2,0,3])\n",
        "max([0,2,1,8,7])\n",
        "max('Kolkata')\n",
        "round(7.899)\n",
        "divmod(5,2)\n",
        "#bin/oct/hex - binary,octadecimal,hexadecimal\n",
        "bin(4)\n",
        "oct(4)\n",
        "hex(4)\n",
        "id(var)\n",
        "ord('c') #Helps to find the ascii code of character\n",
        "len('Kolkata') \n",
        "sum([1,4,2,2,7,1,3,9])\n",
        "help('sum') #pass any function name and it will generate documentation"
      ],
      "metadata": {
        "id": "Isxvrv_5mg8G"
      },
      "execution_count": null,
      "outputs": []
    },
    {
      "cell_type": "markdown",
      "source": [
        "# Built -In Modules\n"
      ],
      "metadata": {
        "id": "cjEUHLAfoWnA"
      }
    },
    {
      "cell_type": "markdown",
      "source": [
        "Consider a module to be the same as code library\n",
        "\n",
        "A file containing a set of fucntions you want to include in your applications\n",
        "\n",
        "Examples\n",
        "\n",
        "\n",
        "*   Math\n",
        "*   Random\n",
        "*   os\n",
        "*   time\n",
        "\n"
      ],
      "metadata": {
        "id": "pKnp3md8od9K"
      }
    },
    {
      "cell_type": "code",
      "source": [
        "help('modules') #generate all the modules that are available"
      ],
      "metadata": {
        "id": "l6utXqvmoZpa"
      },
      "execution_count": null,
      "outputs": []
    },
    {
      "cell_type": "code",
      "source": [
        "import math\n",
        "\n",
        "math.factorial(3)\n",
        "math.pi\n",
        "math.e\n",
        "math.ceil(6.3)\n",
        "math.floor(6.9)\n",
        "math.sqrt(100)"
      ],
      "metadata": {
        "colab": {
          "base_uri": "https://localhost:8080/"
        },
        "id": "K9gR19L7pFcu",
        "outputId": "c22ed3f6-d35f-4ece-940f-1439b6fc386d"
      },
      "execution_count": null,
      "outputs": [
        {
          "output_type": "execute_result",
          "data": {
            "text/plain": [
              "10.0"
            ]
          },
          "metadata": {},
          "execution_count": 50
        }
      ]
    },
    {
      "cell_type": "code",
      "source": [
        "import random\n",
        "random.randint(1,100)\n",
        "a = [1,4,2,1,5,3]\n",
        "random.shuffle(a)\n",
        "a"
      ],
      "metadata": {
        "colab": {
          "base_uri": "https://localhost:8080/"
        },
        "id": "npEN6jFNp5m_",
        "outputId": "8034e550-29aa-47da-8883-fbfc7a499b1a"
      },
      "execution_count": null,
      "outputs": [
        {
          "output_type": "execute_result",
          "data": {
            "text/plain": [
              "[3, 1, 1, 2, 4, 5]"
            ]
          },
          "metadata": {},
          "execution_count": 59
        }
      ]
    },
    {
      "cell_type": "code",
      "source": [
        "import time\n",
        "time.time()\n",
        "time.ctime()\n",
        "print('Waiting')\n",
        "time.sleep(1)\n",
        "print('Hello')"
      ],
      "metadata": {
        "colab": {
          "base_uri": "https://localhost:8080/"
        },
        "id": "i5ZvsjQkqQCR",
        "outputId": "1f2072a3-b752-49c0-8922-8558ee6965e0"
      },
      "execution_count": null,
      "outputs": [
        {
          "output_type": "stream",
          "name": "stdout",
          "text": [
            "Waiting\n",
            "Hello\n"
          ]
        }
      ]
    },
    {
      "cell_type": "code",
      "source": [
        "import os\n",
        "os.getcwd()\n",
        "os.listdir()"
      ],
      "metadata": {
        "colab": {
          "base_uri": "https://localhost:8080/"
        },
        "id": "X-yH7sMcqjm-",
        "outputId": "8bce5657-7a10-4983-dc5b-93f9c86de433"
      },
      "execution_count": null,
      "outputs": [
        {
          "output_type": "execute_result",
          "data": {
            "text/plain": [
              "['.config', 'sample_data']"
            ]
          },
          "metadata": {},
          "execution_count": 66
        }
      ]
    },
    {
      "cell_type": "markdown",
      "source": [
        "# Strings"
      ],
      "metadata": {
        "id": "TNvQtZKoLFAb"
      }
    },
    {
      "cell_type": "markdown",
      "source": [
        "In Python specifically, strings are a sequence of Unicode characters\n",
        "* Creating Strings\n",
        "* Accessing Strings\n",
        "* Adding Chars to Strings\n",
        "* Editing Strings\n",
        "* Deleting Strings\n",
        "* Operations on Strings\n",
        "* String Functions"
      ],
      "metadata": {
        "id": "Odhs-lGFLmv_"
      }
    },
    {
      "cell_type": "code",
      "source": [
        "#Creating Strings\n",
        "c = \"Hello\"\n",
        "d = 'World'\n",
        "e = '''hello world ''' #multiline strings\n",
        "f = str(\"Hello\")\n",
        "print(c,d,e,f)\n"
      ],
      "metadata": {
        "colab": {
          "base_uri": "https://localhost:8080/"
        },
        "id": "fc8gAIDpLJ8I",
        "outputId": "a9eec254-59ec-426d-f796-48c6ce841d8d"
      },
      "execution_count": null,
      "outputs": [
        {
          "output_type": "stream",
          "name": "stdout",
          "text": [
            "Hello World hello world  Hello\n"
          ]
        }
      ]
    },
    {
      "cell_type": "code",
      "source": [
        "#Accessing Substrings from String\n",
        "c = \"hello\"\n",
        "print(c[0])\n",
        "\n",
        "#Types of Indexing \n",
        "  # 1. Positive Indexing\n",
        "  # 2. Negative Indexing\n",
        "print(c[-2])"
      ],
      "metadata": {
        "colab": {
          "base_uri": "https://localhost:8080/"
        },
        "id": "NZCViN-WNFzN",
        "outputId": "a83c9b0a-6938-4019-f5ac-1ed740abcda4"
      },
      "execution_count": null,
      "outputs": [
        {
          "output_type": "stream",
          "name": "stdout",
          "text": [
            "h\n",
            "l\n"
          ]
        }
      ]
    },
    {
      "cell_type": "code",
      "source": [
        "#Slicing\n",
        "c = \"Hello World\"\n",
        "print(c[0:5])\n",
        "print(c[:4])\n",
        "print(c[:])\n",
        "print(c[1:6:2])\n",
        "print(c[0:6:-1]) #If we take positive index we can't take negative step\n",
        "print(c[-5:-1:2])\n",
        "print(c[::-1])"
      ],
      "metadata": {
        "colab": {
          "base_uri": "https://localhost:8080/"
        },
        "id": "YY9mX8CPOFVF",
        "outputId": "7f8f51eb-346a-4fb0-cc5a-163fbbc1585e"
      },
      "execution_count": null,
      "outputs": [
        {
          "output_type": "stream",
          "name": "stdout",
          "text": [
            "Hello\n",
            "Hell\n",
            "Hello World\n",
            "el \n",
            "\n",
            "Wr\n",
            "dlroW olleH\n"
          ]
        }
      ]
    },
    {
      "cell_type": "code",
      "source": [
        "#Editing and Deleting Strings\n",
        "c = \"Hello\"\n",
        "print(c)\n",
        "#Strings are immutable data type\n",
        "#c[0] = \"x\" # 'str' object does not support item assignment\n",
        "c = \"World\"\n",
        "print(c)\n",
        "\n"
      ],
      "metadata": {
        "colab": {
          "base_uri": "https://localhost:8080/"
        },
        "id": "5h334B4RParG",
        "outputId": "cdfcb474-e76d-4fa6-af1d-d8b8871c7690"
      },
      "execution_count": null,
      "outputs": [
        {
          "output_type": "stream",
          "name": "stdout",
          "text": [
            "Hello\n",
            "World\n"
          ]
        }
      ]
    },
    {
      "cell_type": "code",
      "source": [
        "#Deletion \n",
        "del c\n",
        "#Cannot delete portion of string such as del c[0]"
      ],
      "metadata": {
        "id": "qwnxOVKOQI_e"
      },
      "execution_count": null,
      "outputs": []
    },
    {
      "cell_type": "markdown",
      "source": [
        "# Operations on Strings\n",
        "* Arithmetic Operations\n",
        "* Relational Operations\n",
        "* Logical Operations\n",
        "* Loops on Strings\n",
        "* Membership Operations\n"
      ],
      "metadata": {
        "id": "5MxJvb_bQm_u"
      }
    },
    {
      "cell_type": "code",
      "source": [
        "#Aritmetic Operations\n",
        "\"Hello\" + \" \" + \"World!\""
      ],
      "metadata": {
        "colab": {
          "base_uri": "https://localhost:8080/",
          "height": 36
        },
        "id": "owd2enDuQmC8",
        "outputId": "6b77bfa2-1f04-470d-a189-5fd0672b91d7"
      },
      "execution_count": null,
      "outputs": [
        {
          "output_type": "execute_result",
          "data": {
            "text/plain": [
              "'Hello World!'"
            ],
            "application/vnd.google.colaboratory.intrinsic+json": {
              "type": "string"
            }
          },
          "metadata": {},
          "execution_count": 49
        }
      ]
    },
    {
      "cell_type": "code",
      "source": [
        "\"*\" * 3"
      ],
      "metadata": {
        "colab": {
          "base_uri": "https://localhost:8080/",
          "height": 36
        },
        "id": "t8t9dYV8Q9VI",
        "outputId": "ac731d16-3d1b-4f25-e4a0-b91aaf0712b4"
      },
      "execution_count": null,
      "outputs": [
        {
          "output_type": "execute_result",
          "data": {
            "text/plain": [
              "'***'"
            ],
            "application/vnd.google.colaboratory.intrinsic+json": {
              "type": "string"
            }
          },
          "metadata": {},
          "execution_count": 52
        }
      ]
    },
    {
      "cell_type": "code",
      "source": [
        "#Relational Operators\n",
        "\"Hello\" == \"World\""
      ],
      "metadata": {
        "colab": {
          "base_uri": "https://localhost:8080/"
        },
        "id": "iLNDFvQTREmy",
        "outputId": "f1127c0c-b42d-42b2-dd4c-7c719d5f0ce6"
      },
      "execution_count": null,
      "outputs": [
        {
          "output_type": "execute_result",
          "data": {
            "text/plain": [
              "False"
            ]
          },
          "metadata": {},
          "execution_count": 53
        }
      ]
    },
    {
      "cell_type": "code",
      "source": [
        "\"Hello\" != \"World\""
      ],
      "metadata": {
        "colab": {
          "base_uri": "https://localhost:8080/"
        },
        "id": "Oq69PbbxRLZ2",
        "outputId": "8a41a563-156e-4372-e96a-f08083769c2f"
      },
      "execution_count": null,
      "outputs": [
        {
          "output_type": "execute_result",
          "data": {
            "text/plain": [
              "True"
            ]
          },
          "metadata": {},
          "execution_count": 54
        }
      ]
    },
    {
      "cell_type": "code",
      "source": [
        "\"Mumbai\" > \"Pune\"\n",
        "#Lexiographically Comparison-> Like in dictionary we get Mumbai first so mumbai is smaller"
      ],
      "metadata": {
        "colab": {
          "base_uri": "https://localhost:8080/"
        },
        "id": "-nPL5AaJRO0x",
        "outputId": "44d21895-8173-4eda-d2af-6344623a274e"
      },
      "execution_count": null,
      "outputs": [
        {
          "output_type": "execute_result",
          "data": {
            "text/plain": [
              "False"
            ]
          },
          "metadata": {},
          "execution_count": 55
        }
      ]
    },
    {
      "cell_type": "code",
      "source": [
        "\"mumbai\" < \"Mumbai\""
      ],
      "metadata": {
        "colab": {
          "base_uri": "https://localhost:8080/"
        },
        "id": "ytlQC4i4Rfov",
        "outputId": "86f0d55d-e5f1-4de3-e53a-c8db4eb221c6"
      },
      "execution_count": null,
      "outputs": [
        {
          "output_type": "execute_result",
          "data": {
            "text/plain": [
              "False"
            ]
          },
          "metadata": {},
          "execution_count": 56
        }
      ]
    },
    {
      "cell_type": "code",
      "source": [
        "#Logical Operator\n",
        "\"Hello\" and \"World\"\n",
        "# \"\" -> False\n",
        "# \"Weight\" -> True"
      ],
      "metadata": {
        "colab": {
          "base_uri": "https://localhost:8080/",
          "height": 36
        },
        "id": "XQTwwPSeRp1h",
        "outputId": "0442a53e-d316-4973-c534-a061b5d56e34"
      },
      "execution_count": null,
      "outputs": [
        {
          "output_type": "execute_result",
          "data": {
            "text/plain": [
              "'World'"
            ],
            "application/vnd.google.colaboratory.intrinsic+json": {
              "type": "string"
            }
          },
          "metadata": {},
          "execution_count": 57
        }
      ]
    },
    {
      "cell_type": "code",
      "source": [
        "\"\" or \"World\""
      ],
      "metadata": {
        "colab": {
          "base_uri": "https://localhost:8080/",
          "height": 36
        },
        "id": "tKG7E_FeR2Wm",
        "outputId": "5fb1d9da-2096-4bd1-d3c0-de2f460b07ed"
      },
      "execution_count": null,
      "outputs": [
        {
          "output_type": "execute_result",
          "data": {
            "text/plain": [
              "'World'"
            ],
            "application/vnd.google.colaboratory.intrinsic+json": {
              "type": "string"
            }
          },
          "metadata": {},
          "execution_count": 58
        }
      ]
    },
    {
      "cell_type": "code",
      "source": [
        "\"hello\" or \"world\""
      ],
      "metadata": {
        "colab": {
          "base_uri": "https://localhost:8080/",
          "height": 36
        },
        "id": "GTanQvJXR6nQ",
        "outputId": "71133f9d-baca-4745-97a8-3e66dbfd4598"
      },
      "execution_count": null,
      "outputs": [
        {
          "output_type": "execute_result",
          "data": {
            "text/plain": [
              "'hello'"
            ],
            "application/vnd.google.colaboratory.intrinsic+json": {
              "type": "string"
            }
          },
          "metadata": {},
          "execution_count": 59
        }
      ]
    },
    {
      "cell_type": "code",
      "source": [
        "\"hello\" and \"world\""
      ],
      "metadata": {
        "colab": {
          "base_uri": "https://localhost:8080/",
          "height": 36
        },
        "id": "rHEcJPwxR9VA",
        "outputId": "cfc5c0f8-c26e-41c8-d939-52aa9d69737c"
      },
      "execution_count": null,
      "outputs": [
        {
          "output_type": "execute_result",
          "data": {
            "text/plain": [
              "'world'"
            ],
            "application/vnd.google.colaboratory.intrinsic+json": {
              "type": "string"
            }
          },
          "metadata": {},
          "execution_count": 60
        }
      ]
    },
    {
      "cell_type": "code",
      "source": [
        "not \"hello\""
      ],
      "metadata": {
        "colab": {
          "base_uri": "https://localhost:8080/"
        },
        "id": "Letg1qzTSAFF",
        "outputId": "e85d2d9a-7dca-4371-9e6a-fbacb2637ae9"
      },
      "execution_count": null,
      "outputs": [
        {
          "output_type": "execute_result",
          "data": {
            "text/plain": [
              "False"
            ]
          },
          "metadata": {},
          "execution_count": 61
        }
      ]
    },
    {
      "cell_type": "code",
      "source": [
        "not \"\""
      ],
      "metadata": {
        "colab": {
          "base_uri": "https://localhost:8080/"
        },
        "id": "ROZPAtgYSE1z",
        "outputId": "267a2a6f-e403-4799-bd87-99508defd16d"
      },
      "execution_count": null,
      "outputs": [
        {
          "output_type": "execute_result",
          "data": {
            "text/plain": [
              "True"
            ]
          },
          "metadata": {},
          "execution_count": 62
        }
      ]
    },
    {
      "cell_type": "code",
      "source": [
        "#Loops on Strings\n",
        "c = \"Hello World\"\n",
        "for i in c[2::2]:\n",
        "  print(i)"
      ],
      "metadata": {
        "colab": {
          "base_uri": "https://localhost:8080/"
        },
        "id": "zhXRJJU_SK8H",
        "outputId": "365e8f4a-f4f8-49c2-e3ed-b76d48de3ee2"
      },
      "execution_count": null,
      "outputs": [
        {
          "output_type": "stream",
          "name": "stdout",
          "text": [
            "l\n",
            "o\n",
            "W\n",
            "r\n",
            "d\n"
          ]
        }
      ]
    },
    {
      "cell_type": "code",
      "source": [
        "#Membership Operator\n",
        "'h' in c"
      ],
      "metadata": {
        "colab": {
          "base_uri": "https://localhost:8080/"
        },
        "id": "UQF92mIESayY",
        "outputId": "c48a89ad-8522-4d2d-b91e-ee64932bce5b"
      },
      "execution_count": null,
      "outputs": [
        {
          "output_type": "execute_result",
          "data": {
            "text/plain": [
              "False"
            ]
          },
          "metadata": {},
          "execution_count": 65
        }
      ]
    },
    {
      "cell_type": "code",
      "source": [
        "\"H\" in c"
      ],
      "metadata": {
        "colab": {
          "base_uri": "https://localhost:8080/"
        },
        "id": "4-KWe8afSfwy",
        "outputId": "dce7c038-391d-47ad-a3f5-b83a84d23d49"
      },
      "execution_count": null,
      "outputs": [
        {
          "output_type": "execute_result",
          "data": {
            "text/plain": [
              "True"
            ]
          },
          "metadata": {},
          "execution_count": 66
        }
      ]
    },
    {
      "cell_type": "code",
      "source": [
        "\"World\" not in c"
      ],
      "metadata": {
        "colab": {
          "base_uri": "https://localhost:8080/"
        },
        "id": "NkZvZMH0SiZX",
        "outputId": "a4b4833f-b8aa-4101-a4ce-c2b37d3cdb3c"
      },
      "execution_count": null,
      "outputs": [
        {
          "output_type": "execute_result",
          "data": {
            "text/plain": [
              "False"
            ]
          },
          "metadata": {},
          "execution_count": 67
        }
      ]
    },
    {
      "cell_type": "markdown",
      "source": [
        "String Functions (Common Iterable Functions)\n",
        "* len\n",
        "* max\n",
        "* min \n",
        "* sorted"
      ],
      "metadata": {
        "id": "D48QTuYUSoTV"
      }
    },
    {
      "cell_type": "code",
      "source": [
        "c = \"kolkata\"\n",
        "len(c)"
      ],
      "metadata": {
        "colab": {
          "base_uri": "https://localhost:8080/"
        },
        "id": "CeWc7wlxSxgU",
        "outputId": "3fae2cec-0598-4bc5-852d-833a651fb2a5"
      },
      "execution_count": null,
      "outputs": [
        {
          "output_type": "execute_result",
          "data": {
            "text/plain": [
              "7"
            ]
          },
          "metadata": {},
          "execution_count": 69
        }
      ]
    },
    {
      "cell_type": "code",
      "source": [
        "max(c) # on ASCII Value"
      ],
      "metadata": {
        "colab": {
          "base_uri": "https://localhost:8080/",
          "height": 36
        },
        "id": "5NRr17Z1S5uI",
        "outputId": "3045c009-f323-4d54-c352-530e9aef90f9"
      },
      "execution_count": null,
      "outputs": [
        {
          "output_type": "execute_result",
          "data": {
            "text/plain": [
              "'t'"
            ],
            "application/vnd.google.colaboratory.intrinsic+json": {
              "type": "string"
            }
          },
          "metadata": {},
          "execution_count": 70
        }
      ]
    },
    {
      "cell_type": "code",
      "source": [
        "min(c)"
      ],
      "metadata": {
        "colab": {
          "base_uri": "https://localhost:8080/",
          "height": 36
        },
        "id": "omHMLo8US-iV",
        "outputId": "5be75f0b-2e55-47c3-f8dc-bb2d96a5c5d9"
      },
      "execution_count": null,
      "outputs": [
        {
          "output_type": "execute_result",
          "data": {
            "text/plain": [
              "'K'"
            ],
            "application/vnd.google.colaboratory.intrinsic+json": {
              "type": "string"
            }
          },
          "metadata": {},
          "execution_count": 72
        }
      ]
    },
    {
      "cell_type": "code",
      "source": [
        "sorted(c,reverse=True)"
      ],
      "metadata": {
        "colab": {
          "base_uri": "https://localhost:8080/"
        },
        "id": "RrMFi2EFTBtP",
        "outputId": "eb8bba54-501b-4681-e58b-600a1dfd4292"
      },
      "execution_count": null,
      "outputs": [
        {
          "output_type": "execute_result",
          "data": {
            "text/plain": [
              "['t', 'o', 'l', 'k', 'a', 'a', 'K']"
            ]
          },
          "metadata": {},
          "execution_count": 75
        }
      ]
    },
    {
      "cell_type": "markdown",
      "source": [
        "1. Capitalize/Title/Upper/Lower/Swapcase"
      ],
      "metadata": {
        "id": "dbSfXeE_TI9Q"
      }
    },
    {
      "cell_type": "code",
      "source": [
        "c.capitalize()"
      ],
      "metadata": {
        "colab": {
          "base_uri": "https://localhost:8080/",
          "height": 36
        },
        "id": "3ypZ75NvTOmG",
        "outputId": "7c6134ca-acb7-4c8c-f1ea-27f9e8c17d9a"
      },
      "execution_count": null,
      "outputs": [
        {
          "output_type": "execute_result",
          "data": {
            "text/plain": [
              "'Kolkata'"
            ],
            "application/vnd.google.colaboratory.intrinsic+json": {
              "type": "string"
            }
          },
          "metadata": {},
          "execution_count": 77
        }
      ]
    },
    {
      "cell_type": "code",
      "source": [
        "\"hi i am shivam\".title()"
      ],
      "metadata": {
        "colab": {
          "base_uri": "https://localhost:8080/",
          "height": 36
        },
        "id": "25Ur0_3dTgdf",
        "outputId": "756d8bb8-58ca-4a45-b515-9e172853d6e5"
      },
      "execution_count": null,
      "outputs": [
        {
          "output_type": "execute_result",
          "data": {
            "text/plain": [
              "'Hi I Am Shivam'"
            ],
            "application/vnd.google.colaboratory.intrinsic+json": {
              "type": "string"
            }
          },
          "metadata": {},
          "execution_count": 79
        }
      ]
    },
    {
      "cell_type": "code",
      "source": [
        "c.upper()"
      ],
      "metadata": {
        "colab": {
          "base_uri": "https://localhost:8080/",
          "height": 36
        },
        "id": "aOGii65cTodN",
        "outputId": "d9d3dca7-ae52-4f34-a3a2-4a89f7b42089"
      },
      "execution_count": null,
      "outputs": [
        {
          "output_type": "execute_result",
          "data": {
            "text/plain": [
              "'KOLKATA'"
            ],
            "application/vnd.google.colaboratory.intrinsic+json": {
              "type": "string"
            }
          },
          "metadata": {},
          "execution_count": 80
        }
      ]
    },
    {
      "cell_type": "code",
      "source": [
        "c.lower()"
      ],
      "metadata": {
        "colab": {
          "base_uri": "https://localhost:8080/",
          "height": 36
        },
        "id": "jdxWjCmvTpxY",
        "outputId": "2a85afe6-03e9-493e-fc4c-f7d4b14767b8"
      },
      "execution_count": null,
      "outputs": [
        {
          "output_type": "execute_result",
          "data": {
            "text/plain": [
              "'kolkata'"
            ],
            "application/vnd.google.colaboratory.intrinsic+json": {
              "type": "string"
            }
          },
          "metadata": {},
          "execution_count": 81
        }
      ]
    },
    {
      "cell_type": "code",
      "source": [
        "\"Hi I Am Shivam\".swapcase()"
      ],
      "metadata": {
        "colab": {
          "base_uri": "https://localhost:8080/",
          "height": 36
        },
        "id": "cIDXJl-7TrY3",
        "outputId": "f3d18a46-9197-459b-8c39-6695c23c124c"
      },
      "execution_count": null,
      "outputs": [
        {
          "output_type": "execute_result",
          "data": {
            "text/plain": [
              "'hI i aM sHIVAM'"
            ],
            "application/vnd.google.colaboratory.intrinsic+json": {
              "type": "string"
            }
          },
          "metadata": {},
          "execution_count": 82
        }
      ]
    },
    {
      "cell_type": "markdown",
      "source": [
        "2. Count"
      ],
      "metadata": {
        "id": "pnX-CcjwT0rZ"
      }
    },
    {
      "cell_type": "code",
      "source": [
        "\"sssh koi hai\".count('s')"
      ],
      "metadata": {
        "colab": {
          "base_uri": "https://localhost:8080/"
        },
        "id": "tXyfEVxsT2Jm",
        "outputId": "5ef9c15d-e1aa-4145-f39c-3a5f36d24d1a"
      },
      "execution_count": null,
      "outputs": [
        {
          "output_type": "execute_result",
          "data": {
            "text/plain": [
              "3"
            ]
          },
          "metadata": {},
          "execution_count": 83
        }
      ]
    },
    {
      "cell_type": "markdown",
      "source": [
        "3. Find/Index"
      ],
      "metadata": {
        "id": "LaZo4LlwUD2x"
      }
    },
    {
      "cell_type": "code",
      "source": [
        "\"sssh koi hai\".find('koi')"
      ],
      "metadata": {
        "colab": {
          "base_uri": "https://localhost:8080/"
        },
        "id": "NTlZPQ5mUHdq",
        "outputId": "293dc1c7-9297-408d-94f0-f71fd4fbef62"
      },
      "execution_count": null,
      "outputs": [
        {
          "output_type": "execute_result",
          "data": {
            "text/plain": [
              "5"
            ]
          },
          "metadata": {},
          "execution_count": 85
        }
      ]
    },
    {
      "cell_type": "code",
      "source": [
        "\"sssh koi hai\".index(\"x\") #Find -> if not found it return -1 in index it throws error"
      ],
      "metadata": {
        "id": "b_fm-r0QUNQN"
      },
      "execution_count": null,
      "outputs": []
    },
    {
      "cell_type": "markdown",
      "source": [
        "4. endswith/startswith"
      ],
      "metadata": {
        "id": "LRMZWhg1Ub4W"
      }
    },
    {
      "cell_type": "code",
      "source": [
        "\"sssh koi hai\".endswith('i')"
      ],
      "metadata": {
        "colab": {
          "base_uri": "https://localhost:8080/"
        },
        "id": "23txFtrrUe0N",
        "outputId": "9d6ab66f-0ae8-4e79-88e3-7d9d4163df71"
      },
      "execution_count": null,
      "outputs": [
        {
          "output_type": "execute_result",
          "data": {
            "text/plain": [
              "True"
            ]
          },
          "metadata": {},
          "execution_count": 91
        }
      ]
    },
    {
      "cell_type": "code",
      "source": [
        "\"sssh koi hai\".startswith('i')"
      ],
      "metadata": {
        "colab": {
          "base_uri": "https://localhost:8080/"
        },
        "id": "8vMe6C2FUjYj",
        "outputId": "3bb7d259-7d95-411c-bc3f-288acefbfca5"
      },
      "execution_count": null,
      "outputs": [
        {
          "output_type": "execute_result",
          "data": {
            "text/plain": [
              "False"
            ]
          },
          "metadata": {},
          "execution_count": 92
        }
      ]
    },
    {
      "cell_type": "markdown",
      "source": [
        "5. Format"
      ],
      "metadata": {
        "id": "pE8LzTmuUm1q"
      }
    },
    {
      "cell_type": "code",
      "source": [
        "\"Hello my name is {} and I am {}\".format(\"Shivam\",20)"
      ],
      "metadata": {
        "colab": {
          "base_uri": "https://localhost:8080/",
          "height": 36
        },
        "id": "v8HXRCG7UohJ",
        "outputId": "f912914a-66a4-4bda-e0ac-bba99bbb5563"
      },
      "execution_count": null,
      "outputs": [
        {
          "output_type": "execute_result",
          "data": {
            "text/plain": [
              "'Hello my name is Shivam and I am 20'"
            ],
            "application/vnd.google.colaboratory.intrinsic+json": {
              "type": "string"
            }
          },
          "metadata": {},
          "execution_count": 93
        }
      ]
    },
    {
      "cell_type": "code",
      "source": [
        "\"Hello my name is {1} and I am {0}\".format(\"Shivam\",20)"
      ],
      "metadata": {
        "colab": {
          "base_uri": "https://localhost:8080/",
          "height": 36
        },
        "id": "215GlbXqU2gT",
        "outputId": "6a4e94ac-a45e-4b21-c0ab-8f644f2cd1ce"
      },
      "execution_count": null,
      "outputs": [
        {
          "output_type": "execute_result",
          "data": {
            "text/plain": [
              "'Hello my name is 20 and I am Shivam'"
            ],
            "application/vnd.google.colaboratory.intrinsic+json": {
              "type": "string"
            }
          },
          "metadata": {},
          "execution_count": 94
        }
      ]
    },
    {
      "cell_type": "code",
      "source": [
        "\"Hello my name is {name} and I am {age}\".format(name=\"Shivam\",age=20)"
      ],
      "metadata": {
        "colab": {
          "base_uri": "https://localhost:8080/",
          "height": 36
        },
        "id": "lcnJVMB6U_JE",
        "outputId": "30ae1809-5a11-4ec4-8b32-4eff80fcfee2"
      },
      "execution_count": null,
      "outputs": [
        {
          "output_type": "execute_result",
          "data": {
            "text/plain": [
              "'Hello my name is Shivam and I am 20'"
            ],
            "application/vnd.google.colaboratory.intrinsic+json": {
              "type": "string"
            }
          },
          "metadata": {},
          "execution_count": 95
        }
      ]
    },
    {
      "cell_type": "markdown",
      "source": [
        "6. isalnum/isalpha/isdecimal/isdigit/isidentifier"
      ],
      "metadata": {
        "id": "d37LIKA-VO64"
      }
    },
    {
      "cell_type": "code",
      "source": [
        "\"FLAT20&\".isalnum()"
      ],
      "metadata": {
        "colab": {
          "base_uri": "https://localhost:8080/"
        },
        "id": "0y5ZJlHiVOaW",
        "outputId": "46e13667-8f09-4dc8-a04c-5a7942e2dda0"
      },
      "execution_count": null,
      "outputs": [
        {
          "output_type": "execute_result",
          "data": {
            "text/plain": [
              "False"
            ]
          },
          "metadata": {},
          "execution_count": 97
        }
      ]
    },
    {
      "cell_type": "code",
      "source": [
        "\"FLAt\".isalpha()"
      ],
      "metadata": {
        "colab": {
          "base_uri": "https://localhost:8080/"
        },
        "id": "f54Bs2gGVcVF",
        "outputId": "11ddd58f-bbca-4692-808d-363cedcc2b36"
      },
      "execution_count": null,
      "outputs": [
        {
          "output_type": "execute_result",
          "data": {
            "text/plain": [
              "True"
            ]
          },
          "metadata": {},
          "execution_count": 101
        }
      ]
    },
    {
      "cell_type": "code",
      "source": [
        "\"10\".isdigit()"
      ],
      "metadata": {
        "colab": {
          "base_uri": "https://localhost:8080/"
        },
        "id": "MbZvQv9TVhXv",
        "outputId": "3f92e147-1466-40a8-ee6e-3e2e7835219c"
      },
      "execution_count": null,
      "outputs": [
        {
          "output_type": "execute_result",
          "data": {
            "text/plain": [
              "True"
            ]
          },
          "metadata": {},
          "execution_count": 102
        }
      ]
    },
    {
      "cell_type": "code",
      "source": [
        "\"Hello_World\".isidentifier()"
      ],
      "metadata": {
        "colab": {
          "base_uri": "https://localhost:8080/"
        },
        "id": "b_2utqQxVlXb",
        "outputId": "32c5e797-0b3b-47e5-c51f-b51894552066"
      },
      "execution_count": null,
      "outputs": [
        {
          "output_type": "execute_result",
          "data": {
            "text/plain": [
              "True"
            ]
          },
          "metadata": {},
          "execution_count": 104
        }
      ]
    },
    {
      "cell_type": "markdown",
      "source": [
        "7. Split"
      ],
      "metadata": {
        "id": "Z_maDJbZVyXr"
      }
    },
    {
      "cell_type": "code",
      "source": [
        "\"Who is prime miniter of india\".split(sep=' ')"
      ],
      "metadata": {
        "colab": {
          "base_uri": "https://localhost:8080/"
        },
        "id": "grOVIK0BVzgF",
        "outputId": "5983e884-7b71-4f16-fa9c-e955bd1c1877"
      },
      "execution_count": null,
      "outputs": [
        {
          "output_type": "execute_result",
          "data": {
            "text/plain": [
              "['Who', 'is', 'prime', 'miniter', 'of', 'india']"
            ]
          },
          "metadata": {},
          "execution_count": 106
        }
      ]
    },
    {
      "cell_type": "markdown",
      "source": [
        "8. Join"
      ],
      "metadata": {
        "id": "vAEr7e95WMaC"
      }
    },
    {
      "cell_type": "code",
      "source": [
        "\"/\".join(['Who', 'is', 'prime', 'miniter', 'of', 'india'])"
      ],
      "metadata": {
        "colab": {
          "base_uri": "https://localhost:8080/",
          "height": 36
        },
        "id": "EfzDbOdSWOHJ",
        "outputId": "18683f32-128a-4e60-8c79-5b0b0d8d0dde"
      },
      "execution_count": null,
      "outputs": [
        {
          "output_type": "execute_result",
          "data": {
            "text/plain": [
              "'Who/is/prime/miniter/of/india'"
            ],
            "application/vnd.google.colaboratory.intrinsic+json": {
              "type": "string"
            }
          },
          "metadata": {},
          "execution_count": 112
        }
      ]
    },
    {
      "cell_type": "markdown",
      "source": [
        "8. Replace"
      ],
      "metadata": {
        "id": "siyKeX4AWaKR"
      }
    },
    {
      "cell_type": "code",
      "source": [
        "\"Hi my name is Shivam\".replace(\"Shivam\",\"Rahul\")"
      ],
      "metadata": {
        "colab": {
          "base_uri": "https://localhost:8080/",
          "height": 36
        },
        "id": "IdlrpvmHWbrE",
        "outputId": "a752bdc0-4d30-498e-92c8-ff5c0918c4a5"
      },
      "execution_count": null,
      "outputs": [
        {
          "output_type": "execute_result",
          "data": {
            "text/plain": [
              "'Hi my name is Rahul'"
            ],
            "application/vnd.google.colaboratory.intrinsic+json": {
              "type": "string"
            }
          },
          "metadata": {},
          "execution_count": 113
        }
      ]
    },
    {
      "cell_type": "markdown",
      "source": [
        "10. Strip"
      ],
      "metadata": {
        "id": "fD4ST2nTWk-F"
      }
    },
    {
      "cell_type": "code",
      "source": [
        "name = \"      Shivam    \"\n",
        "print(name)\n",
        "name.strip()"
      ],
      "metadata": {
        "colab": {
          "base_uri": "https://localhost:8080/",
          "height": 53
        },
        "id": "5wYhkCSNWiTV",
        "outputId": "9499103d-4c15-4963-fefd-bfe68fb647be"
      },
      "execution_count": null,
      "outputs": [
        {
          "output_type": "stream",
          "name": "stdout",
          "text": [
            "      Shivam    \n"
          ]
        },
        {
          "output_type": "execute_result",
          "data": {
            "text/plain": [
              "'Shivam'"
            ],
            "application/vnd.google.colaboratory.intrinsic+json": {
              "type": "string"
            }
          },
          "metadata": {},
          "execution_count": 115
        }
      ]
    },
    {
      "cell_type": "markdown",
      "source": [
        "# List\n",
        "* What is List\n",
        "* List vs Array\n",
        "* How to create List\n",
        "* How to edit list\n",
        "* How to add.\n",
        "* How to delete\n",
        "* Operations on List\n",
        "* Function on List"
      ],
      "metadata": {
        "id": "WvHb7CheK0PI"
      }
    },
    {
      "cell_type": "code",
      "source": [
        "#List vs Array\n",
        "\n",
        "#Array is homogenious whereas List can be heterogenious\n",
        "#Array stores data in continious memory location but list does not store in the same fashion\n",
        "#Array is fast\n",
        "#List is more porgrammer friendly\n",
        "\n",
        "\n",
        "#How to create List\n",
        "L1 = [] #Empty List\n",
        "L2 = [1,2,4,52,1] #Homogenious List\n",
        "L3 = [1,\"Shivam\",\"Rahul\",0.11] #Heterogenious List\n",
        "L4 = [[1,4,5,5],1,4] #2D List\n",
        "L5 = [[[\"Shivam\",\"Karan\",\"Rahul\"],[1,2,4],0.11,12],5,2,1,5]\n",
        "print(L5)\n",
        "\n",
        "L6 = list(\"Shivam\")\n",
        "print(L6)\n",
        "print(L4[0][2])"
      ],
      "metadata": {
        "colab": {
          "base_uri": "https://localhost:8080/"
        },
        "id": "f5HHS8iXLJjI",
        "outputId": "23e810b3-0bff-486c-bcc5-69284cacff9d"
      },
      "execution_count": null,
      "outputs": [
        {
          "output_type": "stream",
          "name": "stdout",
          "text": [
            "[[['Shivam', 'Karan', 'Rahul'], [1, 2, 4], 0.11, 12], 5, 2, 1, 5]\n",
            "['S', 'h', 'i', 'v', 'a', 'm']\n"
          ]
        }
      ]
    },
    {
      "cell_type": "code",
      "source": [
        "#How to edit list\n",
        "#List are mutable data type\n",
        "Edit_List = [1,5,1,2,4]\n",
        "Edit_List[1] = 2\n",
        "print(Edit_List[1])\n",
        "Edit_List[1:3] = [0,0]\n",
        "print(Edit_List)"
      ],
      "metadata": {
        "colab": {
          "base_uri": "https://localhost:8080/"
        },
        "id": "2b-1IkfqM1k7",
        "outputId": "de000cb5-3d9d-4499-9e09-9def142c83b9"
      },
      "execution_count": 6,
      "outputs": [
        {
          "output_type": "stream",
          "name": "stdout",
          "text": [
            "2\n",
            "[1, 0, 0, 2, 4]\n"
          ]
        }
      ]
    },
    {
      "cell_type": "code",
      "source": [
        "#Add New element in a list\n",
        "## 1. append - add single item\n",
        "## 2. extend - add multiple items\n",
        "## 3. insert\n",
        "new_list = [1,0,1,0]\n",
        "new_list.append(40)\n",
        "print(new_list)\n",
        "new_list.extend([20,10,400])\n",
        "print(new_list)\n",
        "new_list.extend(\"goa\")\n",
        "print(new_list)\n",
        "new_list.insert(0,100)\n",
        "print(new_list)"
      ],
      "metadata": {
        "colab": {
          "base_uri": "https://localhost:8080/"
        },
        "id": "RSsmMB6tQnfx",
        "outputId": "03f5e260-df63-4299-b357-560dc74179eb"
      },
      "execution_count": 11,
      "outputs": [
        {
          "output_type": "stream",
          "name": "stdout",
          "text": [
            "[1, 0, 1, 0, 40]\n",
            "[1, 0, 1, 0, 40, 20, 10, 400]\n",
            "[1, 0, 1, 0, 40, 20, 10, 400, 'g', 'o', 'a']\n",
            "[100, 1, 0, 1, 0, 40, 20, 10, 400, 'g', 'o', 'a']\n"
          ]
        }
      ]
    },
    {
      "cell_type": "code",
      "source": [
        "#Delete Elements from List\n",
        "##1.del\n",
        "##2.remove\n",
        "##3.pop\n",
        "\n",
        "new_list = [1,6,3,1,0]\n",
        "\n",
        "del new_list[0] #To remove element by index\n",
        "print(new_list)\n",
        "new_list.remove(6) #To remove element by value\n",
        "print(new_list)\n",
        "new_list.pop() #To remove last value\n",
        "print(new_list)\n",
        "new_list.clear() #To clear the list\n",
        "print(new_list)"
      ],
      "metadata": {
        "colab": {
          "base_uri": "https://localhost:8080/"
        },
        "id": "bDQTl8rtSfmg",
        "outputId": "ec0a8a85-e4ed-4ddc-b39d-faf59eb83a74"
      },
      "execution_count": 1,
      "outputs": [
        {
          "output_type": "stream",
          "name": "stdout",
          "text": [
            "[6, 3, 1, 0]\n",
            "[3, 1, 0]\n",
            "[3, 1]\n",
            "[]\n",
            "[]\n"
          ]
        }
      ]
    },
    {
      "cell_type": "code",
      "source": [
        "# Operation\n",
        "L2 = [1,2,3,4]\n",
        "L1 = [5,6,7,8]\n",
        "L = L1 + L2\n",
        "print(L)\n",
        "4 in L1\n",
        "len(L1)\n",
        "min(L1)\n",
        "sorted(L1, reverse = True) #Not a permanent Operations\n",
        "L1.sort() #permanent Operations\n",
        "L1.index(3)"
      ],
      "metadata": {
        "colab": {
          "base_uri": "https://localhost:8080/"
        },
        "id": "6yI-ZmCaTe8S",
        "outputId": "1b86e251-d9cf-4108-bd52-f8db67234222"
      },
      "execution_count": 5,
      "outputs": [
        {
          "output_type": "stream",
          "name": "stdout",
          "text": [
            "[5, 6, 7, 8, 1, 2, 3, 4]\n"
          ]
        }
      ]
    },
    {
      "cell_type": "code",
      "source": [
        "sample = \"how are you?\"\n",
        "output = []\n",
        "print(sample.split())\n",
        "for i in sample.split():\n",
        "  output.append(i.capitalize())\n",
        "print(L)\n",
        "print(' '.join(output))"
      ],
      "metadata": {
        "colab": {
          "base_uri": "https://localhost:8080/"
        },
        "id": "ROeWg4nS9mFA",
        "outputId": "2413c294-3d83-4dae-b2ab-e19359487152"
      },
      "execution_count": 9,
      "outputs": [
        {
          "output_type": "stream",
          "name": "stdout",
          "text": [
            "['how', 'are', 'you?']\n",
            "[5, 6, 7, 8, 1, 2, 3, 4]\n",
            "How Are You?\n"
          ]
        }
      ]
    },
    {
      "cell_type": "code",
      "source": [
        "sample = 'abc@gmail.com'\n",
        "print(sample[:sample.find(\"@\")])\n",
        "sample = [1,1,1,3,42,1,2]\n",
        "output = []\n",
        "for i in sample:\n",
        "  if i not in output:\n",
        "    output.append(i)\n",
        "print(output)"
      ],
      "metadata": {
        "colab": {
          "base_uri": "https://localhost:8080/"
        },
        "id": "As8x3azO-I2n",
        "outputId": "200299bf-fa16-4ec3-f4c4-52b5590d5007"
      },
      "execution_count": 13,
      "outputs": [
        {
          "output_type": "stream",
          "name": "stdout",
          "text": [
            "abc\n",
            "[1, 3, 42, 2]\n"
          ]
        }
      ]
    },
    {
      "cell_type": "markdown",
      "source": [
        "# Tuples\n"
      ],
      "metadata": {
        "id": "WS4SGjl9-96j"
      }
    },
    {
      "cell_type": "code",
      "source": [
        "#Tuples are read-only data type. We cannot edit tuples i.e. add and delete element. It is used when we need to maintain data integrity\n",
        "\n",
        "T1 = (1)\n",
        "print(type(T1))\n",
        "T2 = (1,)\n",
        "print(type(T2))\n",
        "T3 = (1,2,3,4,[1,3,4,5])\n",
        "print(T3)"
      ],
      "metadata": {
        "colab": {
          "base_uri": "https://localhost:8080/"
        },
        "id": "P0X7TrGc_B1h",
        "outputId": "8b0651fc-7e1c-4c2e-de90-936d37670e7e"
      },
      "execution_count": 16,
      "outputs": [
        {
          "output_type": "stream",
          "name": "stdout",
          "text": [
            "<class 'int'>\n",
            "<class 'tuple'>\n",
            "(1, 2, 3, 4, [1, 3, 4, 5])\n"
          ]
        }
      ]
    },
    {
      "cell_type": "markdown",
      "source": [
        "# Sets\n",
        "![image.png](data:image/png;base64,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)"
      ],
      "metadata": {
        "id": "kTudfjRPBaPN"
      }
    },
    {
      "cell_type": "code",
      "source": [
        "S1 = {}\n",
        "type(S1)"
      ],
      "metadata": {
        "colab": {
          "base_uri": "https://localhost:8080/"
        },
        "id": "BlHKKixiBiW9",
        "outputId": "7e7aad85-7fbe-43bb-fc5e-3bd53280ba56"
      },
      "execution_count": 17,
      "outputs": [
        {
          "output_type": "execute_result",
          "data": {
            "text/plain": [
              "dict"
            ]
          },
          "metadata": {},
          "execution_count": 17
        }
      ]
    },
    {
      "cell_type": "code",
      "source": [
        "S1 = set()\n",
        "type(S1)"
      ],
      "metadata": {
        "colab": {
          "base_uri": "https://localhost:8080/"
        },
        "id": "QZHOLWxABm9s",
        "outputId": "047ea28e-35ff-4ab3-acbf-1167eee17d3f"
      },
      "execution_count": 18,
      "outputs": [
        {
          "output_type": "execute_result",
          "data": {
            "text/plain": [
              "set"
            ]
          },
          "metadata": {},
          "execution_count": 18
        }
      ]
    },
    {
      "cell_type": "code",
      "source": [
        "S1 = {1,2,3,4}\n",
        "S2 = {\"Hello\",4.5,1}\n",
        "S3 = {1,1,2,2,3,3}\n",
        "print(S1,S2,S3)"
      ],
      "metadata": {
        "colab": {
          "base_uri": "https://localhost:8080/"
        },
        "id": "LKtlM1XdBq56",
        "outputId": "9de20200-0ce7-4e4d-a12a-142fa74ac356"
      },
      "execution_count": 19,
      "outputs": [
        {
          "output_type": "stream",
          "name": "stdout",
          "text": [
            "{1, 2, 3, 4} {1, 'Hello', 4.5} {1, 2, 3}\n"
          ]
        }
      ]
    },
    {
      "cell_type": "code",
      "source": [
        "S4 = {[1,2,3],43,12,4}"
      ],
      "metadata": {
        "colab": {
          "base_uri": "https://localhost:8080/",
          "height": 165
        },
        "id": "n1khvR9FB173",
        "outputId": "e6cd705a-e79f-42ab-b02b-dcb359313346"
      },
      "execution_count": 20,
      "outputs": [
        {
          "output_type": "error",
          "ename": "TypeError",
          "evalue": "ignored",
          "traceback": [
            "\u001b[0;31m---------------------------------------------------------------------------\u001b[0m",
            "\u001b[0;31mTypeError\u001b[0m                                 Traceback (most recent call last)",
            "\u001b[0;32m<ipython-input-20-9f1d4317e7e9>\u001b[0m in \u001b[0;36m<module>\u001b[0;34m\u001b[0m\n\u001b[0;32m----> 1\u001b[0;31m \u001b[0mS4\u001b[0m \u001b[0;34m=\u001b[0m \u001b[0;34m{\u001b[0m\u001b[0;34m[\u001b[0m\u001b[0;36m1\u001b[0m\u001b[0;34m,\u001b[0m\u001b[0;36m2\u001b[0m\u001b[0;34m,\u001b[0m\u001b[0;36m3\u001b[0m\u001b[0;34m]\u001b[0m\u001b[0;34m,\u001b[0m\u001b[0;36m43\u001b[0m\u001b[0;34m,\u001b[0m\u001b[0;36m12\u001b[0m\u001b[0;34m,\u001b[0m\u001b[0;36m4\u001b[0m\u001b[0;34m}\u001b[0m\u001b[0;34m\u001b[0m\u001b[0;34m\u001b[0m\u001b[0m\n\u001b[0m",
            "\u001b[0;31mTypeError\u001b[0m: unhashable type: 'list'"
          ]
        }
      ]
    },
    {
      "cell_type": "code",
      "source": [
        "S5 = {1,3,4,(1,2,34)}"
      ],
      "metadata": {
        "id": "lxjXqP8lB-Xz"
      },
      "execution_count": 21,
      "outputs": []
    },
    {
      "cell_type": "code",
      "source": [
        "S6 = {1,2,4,(1,3,4,[1,2,5,6])}"
      ],
      "metadata": {
        "colab": {
          "base_uri": "https://localhost:8080/",
          "height": 165
        },
        "id": "E6hU_ZVCCCpU",
        "outputId": "93f6fadd-92ff-4836-d023-6ece01ba34f7"
      },
      "execution_count": 22,
      "outputs": [
        {
          "output_type": "error",
          "ename": "TypeError",
          "evalue": "ignored",
          "traceback": [
            "\u001b[0;31m---------------------------------------------------------------------------\u001b[0m",
            "\u001b[0;31mTypeError\u001b[0m                                 Traceback (most recent call last)",
            "\u001b[0;32m<ipython-input-22-a0df73097779>\u001b[0m in \u001b[0;36m<module>\u001b[0;34m\u001b[0m\n\u001b[0;32m----> 1\u001b[0;31m \u001b[0mS6\u001b[0m \u001b[0;34m=\u001b[0m \u001b[0;34m{\u001b[0m\u001b[0;36m1\u001b[0m\u001b[0;34m,\u001b[0m\u001b[0;36m2\u001b[0m\u001b[0;34m,\u001b[0m\u001b[0;36m4\u001b[0m\u001b[0;34m,\u001b[0m\u001b[0;34m(\u001b[0m\u001b[0;36m1\u001b[0m\u001b[0;34m,\u001b[0m\u001b[0;36m3\u001b[0m\u001b[0;34m,\u001b[0m\u001b[0;36m4\u001b[0m\u001b[0;34m,\u001b[0m\u001b[0;34m[\u001b[0m\u001b[0;36m1\u001b[0m\u001b[0;34m,\u001b[0m\u001b[0;36m2\u001b[0m\u001b[0;34m,\u001b[0m\u001b[0;36m5\u001b[0m\u001b[0;34m,\u001b[0m\u001b[0;36m6\u001b[0m\u001b[0;34m]\u001b[0m\u001b[0;34m)\u001b[0m\u001b[0;34m}\u001b[0m\u001b[0;34m\u001b[0m\u001b[0;34m\u001b[0m\u001b[0m\n\u001b[0m",
            "\u001b[0;31mTypeError\u001b[0m: unhashable type: 'list'"
          ]
        }
      ]
    },
    {
      "cell_type": "code",
      "source": [
        "#Sets doesn't follow indexing instead it follows hashing\n",
        "hash(\"Shivam\")\n",
        "\n",
        "S7 = {{1},{2}} # 2d sets are not allowed"
      ],
      "metadata": {
        "colab": {
          "base_uri": "https://localhost:8080/",
          "height": 200
        },
        "id": "QO46YsY4CNxn",
        "outputId": "b1416156-5ab7-464b-f897-eda8d0e10b49"
      },
      "execution_count": 25,
      "outputs": [
        {
          "output_type": "error",
          "ename": "TypeError",
          "evalue": "ignored",
          "traceback": [
            "\u001b[0;31m---------------------------------------------------------------------------\u001b[0m",
            "\u001b[0;31mTypeError\u001b[0m                                 Traceback (most recent call last)",
            "\u001b[0;32m<ipython-input-25-afff1e27b1f5>\u001b[0m in \u001b[0;36m<module>\u001b[0;34m\u001b[0m\n\u001b[1;32m      2\u001b[0m \u001b[0mhash\u001b[0m\u001b[0;34m(\u001b[0m\u001b[0;34m\"Shivam\"\u001b[0m\u001b[0;34m)\u001b[0m\u001b[0;34m\u001b[0m\u001b[0;34m\u001b[0m\u001b[0m\n\u001b[1;32m      3\u001b[0m \u001b[0;34m\u001b[0m\u001b[0m\n\u001b[0;32m----> 4\u001b[0;31m \u001b[0mS7\u001b[0m \u001b[0;34m=\u001b[0m \u001b[0;34m{\u001b[0m\u001b[0;34m{\u001b[0m\u001b[0;36m1\u001b[0m\u001b[0;34m}\u001b[0m\u001b[0;34m,\u001b[0m\u001b[0;34m{\u001b[0m\u001b[0;36m2\u001b[0m\u001b[0;34m}\u001b[0m\u001b[0;34m}\u001b[0m \u001b[0;31m# 2d sets are not allowed\u001b[0m\u001b[0;34m\u001b[0m\u001b[0;34m\u001b[0m\u001b[0m\n\u001b[0m",
            "\u001b[0;31mTypeError\u001b[0m: unhashable type: 'set'"
          ]
        }
      ]
    },
    {
      "cell_type": "code",
      "source": [
        "S3[1]"
      ],
      "metadata": {
        "colab": {
          "base_uri": "https://localhost:8080/",
          "height": 165
        },
        "id": "evv1SSH8Co6T",
        "outputId": "9f26f5ab-9cf8-4b40-c921-975dc3af4632"
      },
      "execution_count": 27,
      "outputs": [
        {
          "output_type": "error",
          "ename": "TypeError",
          "evalue": "ignored",
          "traceback": [
            "\u001b[0;31m---------------------------------------------------------------------------\u001b[0m",
            "\u001b[0;31mTypeError\u001b[0m                                 Traceback (most recent call last)",
            "\u001b[0;32m<ipython-input-27-59bb3cf9ea0d>\u001b[0m in \u001b[0;36m<module>\u001b[0;34m\u001b[0m\n\u001b[0;32m----> 1\u001b[0;31m \u001b[0mS3\u001b[0m\u001b[0;34m[\u001b[0m\u001b[0;36m1\u001b[0m\u001b[0;34m]\u001b[0m\u001b[0;34m\u001b[0m\u001b[0;34m\u001b[0m\u001b[0m\n\u001b[0m",
            "\u001b[0;31mTypeError\u001b[0m: 'set' object is not subscriptable"
          ]
        }
      ]
    },
    {
      "cell_type": "code",
      "source": [
        "S3.add(33)\n",
        "print(S3)"
      ],
      "metadata": {
        "colab": {
          "base_uri": "https://localhost:8080/"
        },
        "id": "BXQ_NY01CtlI",
        "outputId": "c3fc3aa6-0b19-4b82-bb40-3e5f3fbf0010"
      },
      "execution_count": 28,
      "outputs": [
        {
          "output_type": "stream",
          "name": "stdout",
          "text": [
            "{1, 2, 3, 33}\n"
          ]
        }
      ]
    },
    {
      "cell_type": "code",
      "source": [
        "del S1\n",
        "S3.remove(33)\n",
        "S3.pop()"
      ],
      "metadata": {
        "colab": {
          "base_uri": "https://localhost:8080/"
        },
        "id": "QuWa85-3DJBv",
        "outputId": "0143eb5e-dce9-4f14-de46-7be354ba44e8"
      },
      "execution_count": 29,
      "outputs": [
        {
          "output_type": "execute_result",
          "data": {
            "text/plain": [
              "1"
            ]
          },
          "metadata": {},
          "execution_count": 29
        }
      ]
    },
    {
      "cell_type": "code",
      "source": [
        "S3+S2"
      ],
      "metadata": {
        "colab": {
          "base_uri": "https://localhost:8080/",
          "height": 165
        },
        "id": "tXss6Hs2DiTW",
        "outputId": "d3f9e745-a952-468f-9edb-9154e617ef85"
      },
      "execution_count": 31,
      "outputs": [
        {
          "output_type": "error",
          "ename": "TypeError",
          "evalue": "ignored",
          "traceback": [
            "\u001b[0;31m---------------------------------------------------------------------------\u001b[0m",
            "\u001b[0;31mTypeError\u001b[0m                                 Traceback (most recent call last)",
            "\u001b[0;32m<ipython-input-31-8763303a140c>\u001b[0m in \u001b[0;36m<module>\u001b[0;34m\u001b[0m\n\u001b[0;32m----> 1\u001b[0;31m \u001b[0mS3\u001b[0m\u001b[0;34m+\u001b[0m\u001b[0mS2\u001b[0m\u001b[0;34m\u001b[0m\u001b[0;34m\u001b[0m\u001b[0m\n\u001b[0m",
            "\u001b[0;31mTypeError\u001b[0m: unsupported operand type(s) for +: 'set' and 'set'"
          ]
        }
      ]
    },
    {
      "cell_type": "code",
      "source": [
        "S3*3"
      ],
      "metadata": {
        "colab": {
          "base_uri": "https://localhost:8080/",
          "height": 165
        },
        "id": "2vm7d4sCDiPH",
        "outputId": "c64f4a72-aad7-40ac-cb6a-64cef8d8a231"
      },
      "execution_count": 32,
      "outputs": [
        {
          "output_type": "error",
          "ename": "TypeError",
          "evalue": "ignored",
          "traceback": [
            "\u001b[0;31m---------------------------------------------------------------------------\u001b[0m",
            "\u001b[0;31mTypeError\u001b[0m                                 Traceback (most recent call last)",
            "\u001b[0;32m<ipython-input-32-ee8c41f51938>\u001b[0m in \u001b[0;36m<module>\u001b[0;34m\u001b[0m\n\u001b[0;32m----> 1\u001b[0;31m \u001b[0mS3\u001b[0m\u001b[0;34m*\u001b[0m\u001b[0;36m3\u001b[0m\u001b[0;34m\u001b[0m\u001b[0;34m\u001b[0m\u001b[0m\n\u001b[0m",
            "\u001b[0;31mTypeError\u001b[0m: unsupported operand type(s) for *: 'set' and 'int'"
          ]
        }
      ]
    },
    {
      "cell_type": "code",
      "source": [
        "1 in S3 #Membership Operator"
      ],
      "metadata": {
        "colab": {
          "base_uri": "https://localhost:8080/"
        },
        "id": "zfr698V4DoCW",
        "outputId": "982d5a77-7d05-4b6b-cbc3-8eafae7c53d4"
      },
      "execution_count": 33,
      "outputs": [
        {
          "output_type": "execute_result",
          "data": {
            "text/plain": [
              "False"
            ]
          },
          "metadata": {},
          "execution_count": 33
        }
      ]
    },
    {
      "cell_type": "code",
      "source": [
        "S2.union(S3)"
      ],
      "metadata": {
        "colab": {
          "base_uri": "https://localhost:8080/"
        },
        "id": "i6LsFUecD5VW",
        "outputId": "d0f05880-5e83-4323-bbfe-08bfc5010e0e"
      },
      "execution_count": 34,
      "outputs": [
        {
          "output_type": "execute_result",
          "data": {
            "text/plain": [
              "{1, 2, 3, 4.5, 'Hello'}"
            ]
          },
          "metadata": {},
          "execution_count": 34
        }
      ]
    },
    {
      "cell_type": "code",
      "source": [
        "S2.intersection(S3)"
      ],
      "metadata": {
        "colab": {
          "base_uri": "https://localhost:8080/"
        },
        "id": "EExE9cLvD8Pi",
        "outputId": "661ee13b-d030-4853-fdae-ccfb367cc2b2"
      },
      "execution_count": 35,
      "outputs": [
        {
          "output_type": "execute_result",
          "data": {
            "text/plain": [
              "set()"
            ]
          },
          "metadata": {},
          "execution_count": 35
        }
      ]
    },
    {
      "cell_type": "code",
      "source": [
        "S2.difference(S3)"
      ],
      "metadata": {
        "colab": {
          "base_uri": "https://localhost:8080/"
        },
        "id": "FU2ZPGGQEAEE",
        "outputId": "08c1994b-598c-4f18-acf5-8d5da78f783f"
      },
      "execution_count": 36,
      "outputs": [
        {
          "output_type": "execute_result",
          "data": {
            "text/plain": [
              "{1, 4.5, 'Hello'}"
            ]
          },
          "metadata": {},
          "execution_count": 36
        }
      ]
    },
    {
      "cell_type": "code",
      "source": [
        "S2.symmetric_difference(S3) # Noti n both"
      ],
      "metadata": {
        "colab": {
          "base_uri": "https://localhost:8080/"
        },
        "id": "SB2n_loQEETx",
        "outputId": "483165db-9d95-49c4-a8ae-f28f5db98118"
      },
      "execution_count": 38,
      "outputs": [
        {
          "output_type": "execute_result",
          "data": {
            "text/plain": [
              "{1, 2, 3, 4.5, 'Hello'}"
            ]
          },
          "metadata": {},
          "execution_count": 38
        }
      ]
    },
    {
      "cell_type": "code",
      "source": [
        "S2.isdisjoint(S3)"
      ],
      "metadata": {
        "colab": {
          "base_uri": "https://localhost:8080/"
        },
        "id": "HrZfnPprERSd",
        "outputId": "2c1200f9-c78b-4b9f-8729-49f5a4063673"
      },
      "execution_count": 39,
      "outputs": [
        {
          "output_type": "execute_result",
          "data": {
            "text/plain": [
              "True"
            ]
          },
          "metadata": {},
          "execution_count": 39
        }
      ]
    },
    {
      "cell_type": "code",
      "source": [
        "S2.issubset(S3)"
      ],
      "metadata": {
        "colab": {
          "base_uri": "https://localhost:8080/"
        },
        "id": "lg1MUoqREUz-",
        "outputId": "3f9379c0-da7a-4261-8ecd-d30626c4f033"
      },
      "execution_count": 40,
      "outputs": [
        {
          "output_type": "execute_result",
          "data": {
            "text/plain": [
              "False"
            ]
          },
          "metadata": {},
          "execution_count": 40
        }
      ]
    },
    {
      "cell_type": "code",
      "source": [
        "S2.issuperset(S3)"
      ],
      "metadata": {
        "colab": {
          "base_uri": "https://localhost:8080/"
        },
        "id": "bx1AUikaEW6D",
        "outputId": "012bf8ca-3623-4ba5-e52a-7d6d2d4a2d51"
      },
      "execution_count": 42,
      "outputs": [
        {
          "output_type": "execute_result",
          "data": {
            "text/plain": [
              "False"
            ]
          },
          "metadata": {},
          "execution_count": 42
        }
      ]
    },
    {
      "cell_type": "markdown",
      "source": [
        "# Dictionary \n",
        "\n",
        "![image.png](data:image/png;base64,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)\n",
        "\n",
        "\n",
        "\n",
        "![image.png](data:image/png;base64,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)"
      ],
      "metadata": {
        "id": "F17-H1gh9mDg"
      }
    },
    {
      "cell_type": "code",
      "source": [
        "#Key : Value Pair\n",
        "D = {}\n",
        "dic1 = {\"Name\": \"Shivam\", \"Dep\":\"IT\"}\n",
        "#D1 = {[1,2,3]:\"Shivam\"} # Keys are immuatable\n",
        "D1 = {(1,2,3):\"Shivam\"}\n",
        "print(D1)\n",
        "D2 = {\"Name\": \"Rahul\", \"Name\":\"Shivam\"} #Keys should be unique\n",
        "print(D2)\n",
        "D3 = {\n",
        "    \"Name\": \"Rahul\",\n",
        "    \"College\" : \"CGC\",\n",
        "    \"Marks\": {\n",
        "        \"Math\" : 42,\n",
        "        \"Science\" : 67,\n",
        "        \"English\" : 58\n",
        "    }\n",
        "}\n",
        "print(D3)"
      ],
      "metadata": {
        "colab": {
          "base_uri": "https://localhost:8080/"
        },
        "id": "KJBNread9qMf",
        "outputId": "262211f8-3600-4665-dd06-c557a443132b"
      },
      "execution_count": 6,
      "outputs": [
        {
          "output_type": "stream",
          "name": "stdout",
          "text": [
            "{(1, 2, 3): 'Shivam'}\n",
            "{'Name': 'Shivam'}\n",
            "{'Name': 'Rahul', 'College': 'CGC', 'Marks': {'Math': 42, 'Science': 67, 'English': 58}}\n"
          ]
        }
      ]
    },
    {
      "cell_type": "code",
      "source": [
        "#Accessing Items\n",
        "dic1[\"Name\"]\n",
        "\n",
        "D3[\"Marks\"][\"Math\"]\n",
        "\n",
        "print(dic1.get(\"Name\"))"
      ],
      "metadata": {
        "colab": {
          "base_uri": "https://localhost:8080/"
        },
        "id": "zFgjej4N_lth",
        "outputId": "3c4c9436-e5b9-49a6-f383-abb50bbd1bf8"
      },
      "execution_count": 14,
      "outputs": [
        {
          "output_type": "stream",
          "name": "stdout",
          "text": [
            "Rahul\n"
          ]
        }
      ]
    },
    {
      "cell_type": "code",
      "source": [
        "#Edit Items in Dic\n",
        "dic1[\"Name\"] = \"Rahul\"\n",
        "dic1[\"Name\"]"
      ],
      "metadata": {
        "colab": {
          "base_uri": "https://localhost:8080/",
          "height": 36
        },
        "id": "T_yezL-5_8Fm",
        "outputId": "da6f9a99-dd45-4c41-b901-348e8915c0b9"
      },
      "execution_count": 13,
      "outputs": [
        {
          "output_type": "execute_result",
          "data": {
            "text/plain": [
              "'Rahul'"
            ],
            "application/vnd.google.colaboratory.intrinsic+json": {
              "type": "string"
            }
          },
          "metadata": {},
          "execution_count": 13
        }
      ]
    },
    {
      "cell_type": "code",
      "source": [
        "#Add new key:value pair\n",
        "\n",
        "dic1[\"Age\"] = 32\n",
        "dic1[\"Age\"]"
      ],
      "metadata": {
        "colab": {
          "base_uri": "https://localhost:8080/"
        },
        "id": "cpPBCXS4AMRK",
        "outputId": "0dfec53b-5c90-4a23-d70c-6b1a52376864"
      },
      "execution_count": 15,
      "outputs": [
        {
          "output_type": "execute_result",
          "data": {
            "text/plain": [
              "32"
            ]
          },
          "metadata": {},
          "execution_count": 15
        }
      ]
    },
    {
      "cell_type": "code",
      "source": [
        "#Delete\n",
        "dic2 = {\"Name\":\"Shivam\",\"Gender\":\"M\"}\n",
        "del dic2[\"Gender\"]\n",
        "print(dic2)\n",
        "dic2.clear()\n",
        "print(dic2)"
      ],
      "metadata": {
        "colab": {
          "base_uri": "https://localhost:8080/"
        },
        "id": "YbP2U3XCAWV6",
        "outputId": "a03f0d70-b332-4fa3-fa4d-f9c0d720f1ca"
      },
      "execution_count": 18,
      "outputs": [
        {
          "output_type": "stream",
          "name": "stdout",
          "text": [
            "{'Name': 'Shivam'}\n",
            "{}\n"
          ]
        }
      ]
    },
    {
      "cell_type": "code",
      "source": [
        "#Operations\n",
        "for i in D3: #for values\n",
        "  print(i,D3[i])\n",
        "\n",
        "for i in D3[i]: #for keys\n",
        "  print(i)\n",
        "\n",
        "print(\"Rohit\" in D3) #check in keys\n",
        "\n",
        "print(D3.keys())\n",
        "print(D3.values())"
      ],
      "metadata": {
        "colab": {
          "base_uri": "https://localhost:8080/"
        },
        "id": "H64SKQ7tAlHC",
        "outputId": "e8f7133c-a4dc-454c-8875-307b5d106342"
      },
      "execution_count": 29,
      "outputs": [
        {
          "output_type": "stream",
          "name": "stdout",
          "text": [
            "Name Rahul\n",
            "College CGC\n",
            "Marks {'Math': 42, 'Science': 67, 'English': 58}\n",
            "Math\n",
            "Science\n",
            "English\n",
            "False\n",
            "dict_keys(['Name', 'College', 'Marks'])\n",
            "dict_values(['Rahul', 'CGC', {'Math': 42, 'Science': 67, 'English': 58}])\n"
          ]
        }
      ]
    }
  ]
}